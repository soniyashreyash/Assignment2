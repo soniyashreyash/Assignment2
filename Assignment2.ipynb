{
  "nbformat": 4,
  "nbformat_minor": 0,
  "metadata": {
    "colab": {
      "provenance": []
    },
    "kernelspec": {
      "name": "python3",
      "display_name": "Python 3"
    },
    "language_info": {
      "name": "python"
    }
  },
  "cells": [
    {
      "cell_type": "markdown",
      "source": [
        "# Assignment 2\n"
      ],
      "metadata": {
        "id": "Nentw0VAJZhG"
      }
    },
    {
      "cell_type": "markdown",
      "source": [
        "1. Analyze the UI of phone pay.\n"
      ],
      "metadata": {
        "id": "BbYB_5roJv5a"
      }
    },
    {
      "cell_type": "markdown",
      "source": [
        "A. Identify key UI elements such as colors, typography, buttons, icons, and layout in phone pay.\n",
        "-  1. Color : (a) Primary color = purple - reflects trust, innovation, and brand identity. (b) Accent color = white & Gray - used for background and sections. Blue & Green - used for success messages, offers, and upi confirmations. (c) Feedback color = Green - successful transaction. Red - error of failed transaction Yellow/Orange - warning or pending state.\n",
        "\n",
        "-  2. Typography : (a) Font style = phonepe uses system default fonts for android/ ios for consistency. (b) Hierarchy = bold for headings (like \"to contact\", \"recharge & pay bills.\") secondary font size for secondary informations and descriptions.\n",
        "\n",
        "-  3. Buttons : (a) Primary buttons = rounded rectangle with filled purple background and white text are process to pay. (b) Secondary = white background with purple border/ text. (c) icon button = for adding bank accounts for sending money.\n",
        "\n",
        "-  4. Icons : (a) style = flat and minimalistic consistent in line weight. eg = credit card, mobile recharge, history, bank transfer.\n",
        "\n",
        "-  5. Layout : (a) home screen layout = top bar - profile icon, wallet balance, notification bar. (b) bottom navigation bar = icon with labels like home, stores, insurance, switch."
      ],
      "metadata": {
        "id": "qsCd00r-LIjf"
      }
    },
    {
      "cell_type": "markdown",
      "source": [
        "B. Discuss how this elements contribute to the visual aesthatic and consistency of the app.\n",
        "-  These UI elements to create a cohesive, visually appealing, and user-friendly experience.\n",
        "-  The consistency in design builds user trust, promotes brand loyalty and improvve task efficiency.\n",
        "-  Aesthatic clarity ensure even new users feel confident and in control while using financial services crucial for an app handling sensitive transactions."
      ],
      "metadata": {
        "id": "T_tB8nztTCBL"
      }
    },
    {
      "cell_type": "markdown",
      "source": [
        "2. Analyze the UX of phone pe."
      ],
      "metadata": {
        "id": "d9z1njgNUZe6"
      }
    },
    {
      "cell_type": "markdown",
      "source": [
        "A. Assess how easy and intutive the app is to navigate.\n",
        "-   easy of navigation = intutive layout, but minor clutter.\n",
        "-   task efficiency = UPI, bill pay, recharge are faster and easy.\n",
        "-   visual feedback = excellent confirmation and ststus feedback.\n",
        "-   personalization = limited customization of layout.\n",
        "-   accessibility = good language support, but lacks font/ dark mode flexability.\n",
        "-   support and guidance = clear help sections and issue resolution.\n"
      ],
      "metadata": {
        "id": "Br0A8YQTVE0j"
      }
    },
    {
      "cell_type": "markdown",
      "source": [
        "B. Identify pain points or fiction in users interactions.\n",
        "-  Cluttered home screen = homw screen shows too many services at once.\n",
        "-  No onboaring/ help guidence = no proper tutorial or tooltip to explain icons or navigations.\n",
        "-  vague error messages = UPI or bank-related failur sometimes display cryptic or generic erroe messages.  \n",
        "-  Week search filtering = the search bar is helpful but sometime returns unfiltered or irrelevent results.\n",
        "-  Notification overload = users receive multiple push notifications, some unrelated to their usage.  \n"
      ],
      "metadata": {
        "id": "GwxLZzPIWpn-"
      }
    },
    {
      "cell_type": "markdown",
      "source": [
        "C. Evaluate how the design improve user's journy and task completion.\n",
        "-  Simple goal-oriented user flow.\n",
        "-  Consistent visual hierarchy and layout.\n",
        "-  Visual feedback and status updates.\n",
        "-  Recent activity and quick access.\n",
        "-  Service categorization.\n",
        "-  Multi language support.  "
      ],
      "metadata": {
        "id": "m3wf25km_6t-"
      }
    },
    {
      "cell_type": "markdown",
      "source": [
        "3. Compare UI vs UX"
      ],
      "metadata": {
        "id": "RZHF6P3qCgQR"
      }
    },
    {
      "cell_type": "markdown",
      "source": [
        "A. List three key difference between ui and ux based on your analysis.\n",
        "-  1. Focus : UI = visual elements like color, typography, buttons, icons and layouts. UX = overall users journey, satisfication, and task flow.\n",
        "-  2. Role : UI = ensure the app looks clean, consistent and attractive. UX = ensure the app is easy to use, intutive, and efficient.\n",
        "-  3. Output = product the visual layout and interaction design. UX = produces the flow and structure of how users achieve goals.\n",
        "-  In phonepe, UI handles purple theme, grid icon, button, while UX ensure that sending money is fast, onboarding is simple, and confirmations build trust."
      ],
      "metadata": {
        "id": "mynrsEJ9Cn1v"
      }
    },
    {
      "cell_type": "markdown",
      "source": [
        "B. Explain how boath work together to create a seamless experience.\n",
        "-  UI = visual design + UX = logical task flow = easy, intutive actions.\n",
        "-  UI = clear icon and buttons + UX = fast, minimal steps = quick payment and confidence.\n",
        "-  UI = consistent cplpr and font + UX = consistent screen flow = predictable, reliable use.\n",
        "-  UI = instant feedback + UX = error prevention and guidance = trust and user satisfaction."
      ],
      "metadata": {
        "id": "dvQFTPu5C8E7"
      }
    },
    {
      "cell_type": "markdown",
      "source": [
        "3. Explain UI/UX design tools.  "
      ],
      "metadata": {
        "id": "EJbv7kDzHUvU"
      }
    },
    {
      "cell_type": "markdown",
      "source": [
        "A. Research and briefly describe three essential tools used in UI UX design.\n",
        "1. Figma = interface design, prototyping, and collobration.\n",
        "-  Key feature = real-time collobration. Auto layout, components and responsive design. Dev handoff.\n",
        "2. Adobe XD = UI design and interface prototyping.\n",
        "-  Key feature = drag and drop interface. Voice and animation prototyping. Easy integration with other adobe tools.\n",
        "3. Maze = user research and usability testing.\n",
        "-  Key feature = Remote testing. Integrates with figma and adobe XD. Collects actionable user insights,  "
      ],
      "metadata": {
        "id": "VAxEHsPCI5YY"
      }
    },
    {
      "cell_type": "code",
      "execution_count": null,
      "metadata": {
        "id": "aoDVRlTeJHC_"
      },
      "outputs": [],
      "source": []
    }
  ]
}